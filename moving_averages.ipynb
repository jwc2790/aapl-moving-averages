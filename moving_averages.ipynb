{
 "cells": [
  {
   "cell_type": "markdown",
   "metadata": {
    "collapsed": true
   },
   "source": [
    "# AAPL Stock Moving Averages\n",
    "\n",
    "### Motivation:  \n",
    "\n",
    "One strategy on how to measure a stock's trajectory is to use simple moving averages at different intervals to judge the stocks velocity in one direction or another.\n",
    "\n",
    "As always we'll start with our imports."
   ]
  },
  {
   "cell_type": "markdown",
   "metadata": {},
   "source": [
    ""
   ]
  },
  {
   "cell_type": "code",
   "execution_count": 1,
   "metadata": {},
   "outputs": [],
   "source": [
    "import matplotlib.pyplot as plt\n",
    "import pandas as pd"
   ]
  },
  {
   "cell_type": "markdown",
   "metadata": {},
   "source": []
  },
  {
   "cell_type": "code",
   "execution_count": null,
   "metadata": {},
   "outputs": [],
   "source": [
    "df = pd.read_csv('./AAPL.csv')\n",
    "print(df.head())"
   ]
  },
  {
   "cell_type": "code",
   "execution_count": 8,
   "metadata": {
    "collapsed": true
   },
   "outputs": [
    {
     "name": "stdout",
     "output_type": "stream",
     "text": [
      "          Date       Close\n49  2017-07-25  149.161799\n50  2017-07-26  149.116999\n51  2017-07-27  149.018799\n52  2017-07-28  149.003799\n53  2017-07-31  148.927599\n          Date       Close\n19  2017-06-12  153.191498\n20  2017-06-13  152.735998\n21  2017-06-14  152.220498\n22  2017-06-15  151.922498\n23  2017-06-16  151.408998\n"
     ]
    }
   ],
   "source": [
    "df = df[['Date', 'Close']]\n",
    "\n",
    "moving_average_50 = df.rolling(window=50).mean()[49:]\n",
    "\n",
    "print(moving_average_50.head())\n",
    "\n",
    "moving_average_20 = df.rolling(window=20).mean()[19:]\n",
    "\n",
    "print(moving_average_20.head())"
   ]
  },
  {
   "cell_type": "code",
   "execution_count": null,
   "metadata": {},
   "outputs": [],
   "source": [
    "# This line is necessary for the plot to appear in a Jupyter notebook\n",
    "% matplotlib inline\n",
    "# Control the default size of figures in this Jupyter notebook\n",
    "% pylab inline\n",
    "\n",
    "ax = df.plot()\n",
    "moving_average_20.plot(ax=ax)\n",
    "moving_average_50.plot(ax=ax)\n",
    "plt.title('AAPL Moving Averages')\n",
    "plt.show()"
   ]
  }
 ],
 "metadata": {
  "kernelspec": {
   "display_name": "Python 2",
   "language": "python",
   "name": "python2"
  },
  "language_info": {
   "codemirror_mode": {
    "name": "ipython",
    "version": 2
   },
   "file_extension": ".py",
   "mimetype": "text/x-python",
   "name": "python",
   "nbconvert_exporter": "python",
   "pygments_lexer": "ipython2",
   "version": "2.7.6"
  }
 },
 "nbformat": 4,
 "nbformat_minor": 0
}
